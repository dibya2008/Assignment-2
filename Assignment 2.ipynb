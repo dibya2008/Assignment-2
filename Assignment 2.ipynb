{
 "cells": [
  {
   "cell_type": "code",
   "execution_count": 43,
   "metadata": {},
   "outputs": [
    {
     "name": "stdout",
     "output_type": "stream",
     "text": [
      "product on list [1, 2, 4, 5] using custom reduce function is 40\n"
     ]
    }
   ],
   "source": [
    "#First Program\n",
    "\"\"\"\n",
    "Write a Python Program to implement your own myreduce() function which works exactly like\n",
    "Python's built-in function reduce()\n",
    "\"\"\"\n",
    "#Reduce function applies rolling computation  for sequential pairs\n",
    "def myreduce(comp, sequence):\n",
    "# Get first item in sequence and assign to result\n",
    "    result = sequence[0]\n",
    "# iterate over remaining items in sequence and apply reduction function \n",
    "    for item in sequence[1:]:\n",
    "        result = comp(result,item)\n",
    "        \n",
    "    return result\n",
    "\n",
    " \n",
    "def multiply(x,y):\n",
    "    return x*y\n",
    "lst = [1,2,4,5]\n",
    "print (\"product on list {0} using custom reduce function is {1}\".format(lst,myreduce(multiply,lst)))"
   ]
  },
  {
   "cell_type": "code",
   "execution_count": 30,
   "metadata": {},
   "outputs": [
    {
     "name": "stdout",
     "output_type": "stream",
     "text": [
      "Positive numbers on list range(-10, 11) using custom filter function is [1, 2, 3, 4, 5, 6, 7, 8, 9, 10]\n"
     ]
    }
   ],
   "source": [
    "#Program -2\n",
    "\"\"\"\n",
    "Write a Python program to implement your own myfilter() function which works exactly like\n",
    "Python's built-in function filter()\n",
    "\"\"\"\n",
    "\n",
    "\n",
    "# Custom filter function \n",
    "def myfilter(comp, sequence):\n",
    "\n",
    " # Initialize empty list\n",
    " result = []\n",
    " # iterate over sequence of items in sequence and apply filter function\n",
    " for item in sequence:\n",
    "        if comp(item):\n",
    "            result.append(item)\n",
    "            \n",
    "# return funal output\n",
    " return result\n",
    "\n",
    "# test myfilter function\n",
    "def ispositive(x):\n",
    "    if (x >= 0): \n",
    "        return x\n",
    "lst = (range(-10,11))\n",
    "print (\"Positive numbers on list {0} using custom filter function is {1}\".format(lst,myfilter(ispositive,lst)))"
   ]
  },
  {
   "cell_type": "code",
   "execution_count": 7,
   "metadata": {},
   "outputs": [
    {
     "name": "stdout",
     "output_type": "stream",
     "text": [
      "['x', 'y', 'z', 'xx', 'yy', 'zz', 'xxx', 'yyy', 'zzz', 'xxxx', 'yyyy', 'zzzz']\n"
     ]
    }
   ],
   "source": [
    "# Left over part of program 3\n",
    "lst1 = ['x','y','z']\n",
    "my_list = [item*num for num in range(1,5) for item in lst1]\n",
    "print(my_list)"
   ]
  },
  {
   "cell_type": "code",
   "execution_count": null,
   "metadata": {},
   "outputs": [],
   "source": [
    "#Program 3\n",
    "\n",
    "\"\"\"\n",
    "Write List comprehensions to produce the following Lists\n",
    "['A', 'C', 'A', 'D', 'G', 'I', ’L’, ‘ D’]\n",
    "['x', 'xx', 'xxx', 'xxxx', 'y', 'yy', 'yyy', 'yyyy', 'z', 'zz', 'zzz', 'zzzz']\n",
    "['x', 'y', 'z', 'xx', 'yy', 'zz', 'xx', 'yy', 'zz', 'xxxx', 'yyyy', 'zzzz']\n",
    "[[2], [3], [4], [3], [4], [5], [4], [5], [6]]\n",
    "[[2, 3, 4, 5], [3, 4, 5, 6], [4, 5, 6, 7], [5, 6, 7, 8]]\n",
    "[(1, 1), (2, 1), (3, 1), (1, 2), (2, 2), (3, 2), (1, 3), (2, 3), (3, 3)]\n",
    "\n",
    "\"\"\"\n"
   ]
  },
  {
   "cell_type": "code",
   "execution_count": 19,
   "metadata": {},
   "outputs": [
    {
     "name": "stdout",
     "output_type": "stream",
     "text": [
      "['A', 'C', 'A', 'D', 'G', 'I', 'L', 'D']\n",
      "['ACADGILD']\n"
     ]
    }
   ],
   "source": [
    "str = 'ACADGILD'\n",
    "my_list = [x for x in str if x.isalpha()]\n",
    "print(my_list)"
   ]
  },
  {
   "cell_type": "code",
   "execution_count": 8,
   "metadata": {},
   "outputs": [
    {
     "name": "stdout",
     "output_type": "stream",
     "text": [
      "['x', 'xx', 'xxx', 'xxxx', 'y', 'yy', 'yyy', 'yyyy', 'z', 'zz', 'zzz', 'zzzz']\n"
     ]
    }
   ],
   "source": [
    "lst1 = ['x','y','z']\n",
    "my_list = [l*num for l in lst1 for num in range(1,5)]\n",
    "print(my_list)"
   ]
  },
  {
   "cell_type": "code",
   "execution_count": 58,
   "metadata": {},
   "outputs": [
    {
     "name": "stdout",
     "output_type": "stream",
     "text": [
      "[[2], [3], [4], [3], [4], [5], [4], [5], [6]]\n"
     ]
    }
   ],
   "source": [
    "lst2 = [2,3,4]\n",
    "my_list = [[l+m] for l in lst2 for m in range(0,3)]\n",
    "print(my_list)"
   ]
  },
  {
   "cell_type": "code",
   "execution_count": 16,
   "metadata": {},
   "outputs": [
    {
     "name": "stdout",
     "output_type": "stream",
     "text": [
      "[[2, 3, 4, 5], [3, 4, 5, 6], [4, 5, 6, 7], [5, 6, 7, 8]]\n",
      "[[2, 3, 4, 5], [3, 4, 5, 6], [4, 5, 6, 7], [5, 6, 7, 8]]\n"
     ]
    }
   ],
   "source": [
    "lst3 = [[2,3,4,5],[3,4,5,6],[4,5,6,7],[5,6,7,8]]\n",
    "my_list = [l[0:4] for l in lst3]\n",
    "print(my_list)\n",
    "\n",
    "#another approach\n",
    "lst4 = [2,3,4,5]\n",
    "my_list = [[l+m for l in lst4] for m in range(0,4)]\n",
    "print(my_list)"
   ]
  },
  {
   "cell_type": "code",
   "execution_count": 67,
   "metadata": {},
   "outputs": [
    {
     "name": "stdout",
     "output_type": "stream",
     "text": [
      "[(1, 1), (2, 1), (3, 1), (1, 2), (2, 2), (3, 2), (1, 3), (2, 3), (3, 3)]\n"
     ]
    }
   ],
   "source": [
    "lst4 = [1,2,3]\n",
    "my_list = [(b,a) for a in lst4 for b in lst4]\n",
    "print(my_list)"
   ]
  },
  {
   "cell_type": "code",
   "execution_count": 75,
   "metadata": {},
   "outputs": [
    {
     "data": {
      "text/plain": [
       "'Sathishkumar'"
      ]
     },
     "execution_count": 75,
     "metadata": {},
     "output_type": "execute_result"
    }
   ],
   "source": [
    "#Program 4\n",
    "##Implement a function longestWord() that takes a list of words and returns the longest one.\n",
    "\n",
    "def longestWord(wordlist):\n",
    "    longWord = \"\"\n",
    "    max_len = 0\n",
    "    for word in wordlist:\n",
    "        if len(word) > max_len:\n",
    "            max_len = len(word)\n",
    "            longWord = word\n",
    "    return longWord\n",
    "longestWord([\"Mahesh\",\"Sathishkumar\",\"AcadGild\"])"
   ]
  },
  {
   "cell_type": "code",
   "execution_count": 73,
   "metadata": {},
   "outputs": [
    {
     "name": "stdout",
     "output_type": "stream",
     "text": [
      "The longest word  is TIGER \n"
     ]
    }
   ],
   "source": [
    "def longestWord1(word_list):\n",
    "    return max(word_list,key=len)\n",
    "\n",
    "print (\"The longest word  is {} \".format(longestWord1([\"CAT\" , \"TIGER\", \"LION\"])))"
   ]
  },
  {
   "cell_type": "code",
   "execution_count": 18,
   "metadata": {},
   "outputs": [
    {
     "name": "stdout",
     "output_type": "stream",
     "text": [
      "[2, 3, 4, 1]\n"
     ]
    }
   ],
   "source": [
    "# Program 5 Write a Python program using function concept that maps list of words into a list of integers\n",
    "#representing the lengths of the corresponding words .\n",
    "\n",
    "lst1 = [\"ab\",\"cde\",\"fghi\",\"k\"]\n",
    "\n",
    "result = list(map(lambda x: len(x),lst1))\n",
    "print(result)\n",
    "\n"
   ]
  },
  {
   "cell_type": "code",
   "execution_count": 21,
   "metadata": {},
   "outputs": [
    {
     "data": {
      "text/plain": [
       "['Acadgild', 'place', 'learn', 'science']"
      ]
     },
     "execution_count": 21,
     "metadata": {},
     "output_type": "execute_result"
    }
   ],
   "source": [
    "# Program 6 \n",
    "\n",
    "def find_long_words(str,num):\n",
    "    '''\n",
    "    Input:Enter a string and a number \n",
    "    Output:List of words longer than the entered number\n",
    "    '''\n",
    "    words=[]\n",
    "    for i in str.split():\n",
    "        if len(i)>num:\n",
    "            words.append(i)\n",
    "    return words\n",
    "\n",
    "find_long_words('Acadgild is a good place to learn data science',4)\n"
   ]
  },
  {
   "cell_type": "code",
   "execution_count": 26,
   "metadata": {},
   "outputs": [
    {
     "name": "stdout",
     "output_type": "stream",
     "text": [
      "Enter the character of your choice! u\n",
      "True\n"
     ]
    }
   ],
   "source": [
    "#Write a Python function which takes a character (i.e. a string of length 1) and returns True if it is\n",
    "#a vowel, False otherwise.\n",
    "\n",
    "def ChkVowel(v):\n",
    "   \n",
    "    if (v == 'a' or v == 'e' or v == 'i' or v == 'o' or v == 'u'):  \n",
    "        return True\n",
    "    else:\n",
    "        return False\n",
    "char = input(\"Enter the character of your choice! \")\n",
    "print(ChkVowel(char))"
   ]
  },
  {
   "cell_type": "code",
   "execution_count": 2,
   "metadata": {},
   "outputs": [
    {
     "name": "stdout",
     "output_type": "stream",
     "text": [
      "Sides of triangle obtained from parent 'class Triangle': a=3 b=4 c=5\n",
      "s=  6.0\n",
      "Area = (s*(s-a)*(s-b)*(s-c))**0.5 = 6.000\n"
     ]
    }
   ],
   "source": [
    "\"\"\"\n",
    "Write a Python Program(with class concepts) to find the area of the triangle using the below\n",
    "formula.\n",
    "area = (s*(s-a)*(s-b)*(s-c)) ** 0.5\n",
    "Function to take the length of the sides of triangle from user should be defined in the parent\n",
    "class and function to calculate the area should be defined in subclass.\n",
    "\"\"\"\n",
    "class Triangle:\n",
    "    def __init__(self,a,b,c):\n",
    "        self.a=a\n",
    "        self.b=b\n",
    "        self.c=c\n",
    "        print (\"Sides of triangle obtained from parent 'class Triangle': a=\" +  str(a) + \" b=\" + str(b) + \" c=\" + str(c))\n",
    "     \n",
    "     \n",
    "        \n",
    "class FindArea(Triangle):\n",
    "    def __init__(self,a,b,c):\n",
    "        super(FindArea,self).__init__(a,b,c)\n",
    "        \n",
    "    def calculate_area(self):\n",
    "        s=(self.a+self.b+self.c)/2\n",
    "        print(\"s= \",str(s))\n",
    "        return \"Area = (s*(s-a)*(s-b)*(s-c))**0.5 = %0.3f\"  %((s*(s-self.a)*(s-self.b)*(s-self.c))**0.5)\n",
    "    \n",
    "Area=FindArea(3,4,5)  \n",
    "print(Area.calculate_area())"
   ]
  },
  {
   "cell_type": "code",
   "execution_count": null,
   "metadata": {},
   "outputs": [],
   "source": []
  }
 ],
 "metadata": {
  "kernelspec": {
   "display_name": "Python 3",
   "language": "python",
   "name": "python3"
  },
  "language_info": {
   "codemirror_mode": {
    "name": "ipython",
    "version": 3
   },
   "file_extension": ".py",
   "mimetype": "text/x-python",
   "name": "python",
   "nbconvert_exporter": "python",
   "pygments_lexer": "ipython3",
   "version": "3.7.4"
  }
 },
 "nbformat": 4,
 "nbformat_minor": 2
}
